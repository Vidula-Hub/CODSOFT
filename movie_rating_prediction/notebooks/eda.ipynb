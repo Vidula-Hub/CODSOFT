{
 "cells": [
  {
   "cell_type": "code",
   "execution_count": null,
   "id": "92e35e23",
   "metadata": {},
   "outputs": [],
   "source": [
    "import pandas as pd\n",
    "import seaborn as sns\n",
    "import matplotlib.pyplot as plt\n",
    "\n",
    "# Load data\n",
    "df = pd.read_csv('../data/movies_metadata.csv')\n",
    "df['vote_average'] = df['vote_average'].astype(float)\n",
    "df['runtime'] = df['runtime'].astype(float)\n",
    "df['budget'] = pd.to_numeric(df['budget'], errors='coerce')\n",
    "\n",
    "# Distribution of ratings\n",
    "plt.figure(figsize=(8, 6))\n",
    "sns.histplot(df['vote_average'], bins=20, kde=True)\n",
    "plt.title('Distribution of Movie Ratings')\n",
    "plt.xlabel('Vote Average')\n",
    "plt.savefig('../images/rating_distribution.png')\n",
    "plt.show()\n",
    "\n",
    "# Correlation heatmap\n",
    "corr = df[['vote_average', 'runtime', 'budget']].corr()\n",
    "plt.figure(figsize=(8, 6))\n",
    "sns.heatmap(corr, annot=True, cmap='coolwarm', fmt='.2f')\n",
    "plt.title('Correlation Heatmap')\n",
    "plt.savefig('../images/correlation_heatmap.png')\n",
    "plt.show()\n",
    "\n",
    "# Boxplot for outliers\n",
    "plt.figure(figsize=(8, 6))\n",
    "sns.boxplot(x=df['runtime'])\n",
    "plt.title('Runtime Outliers')\n",
    "plt.savefig('../images/runtime_boxplot.png')\n",
    "plt.show()"
   ]
  }
 ],
 "metadata": {
  "kernelspec": {
   "display_name": "venv",
   "language": "python",
   "name": "python3"
  },
  "language_info": {
   "name": "python",
   "version": "3.11.4"
  }
 },
 "nbformat": 4,
 "nbformat_minor": 5
}
